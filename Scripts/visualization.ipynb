{
 "cells": [
  {
   "cell_type": "code",
   "execution_count": 1,
   "id": "ffaea62a-c79c-410e-be60-c2bf4709b2ef",
   "metadata": {},
   "outputs": [],
   "source": [
    "import pandas as pd\n",
    "import matplotlib.pyplot as plt\n",
    "import seaborn as sns"
   ]
  },
  {
   "cell_type": "code",
   "execution_count": 2,
   "id": "fcb7c746-9c11-416f-a337-c6302e04ca48",
   "metadata": {},
   "outputs": [],
   "source": [
    "df = pd.read_csv('cleaned-data.csv')"
   ]
  },
  {
   "cell_type": "code",
   "execution_count": null,
   "id": "a65534cd-19f0-48ea-b267-3d4200d32fc3",
   "metadata": {},
   "outputs": [],
   "source": [
    "# 1.line graph-COVID-19 Cases Over Time in Afghanistan\n",
    "\n",
    "plt.figure(figsize=(12,6))\n",
    "sns.lineplot(data=df, x='date', y='cases', color='red')\n",
    "plt.title(\"COVID-19 Cases Over Time in Afghanistan\", fontsize=16)\n",
    "plt.xlabel(\"Date\")\n",
    "plt.ylabel(\"Number of Cases\")\n",
    "plt.grid(alpha=0.3)\n",
    "plt.show()\n",
    "plt.savefig(\"Cases Over Time in Afghanistan.png\")"
   ]
  },
  {
   "cell_type": "code",
   "execution_count": null,
   "id": "44944ea7-6408-4a72-b78f-eb9b01be8c5f",
   "metadata": {},
   "outputs": [],
   "source": [
    "# 2.Ranked Bar Chart-Top 10 Provinces by COVID-19 Cases\n",
    "top_provinces = df.groupby('province')['cases'].sum().nlargest(10)\n",
    "\n",
    "plt.figure(figsize=(12,6))\n",
    "sns.barplot(x=top_provinces.values, y=top_provinces.index, palette=\"Reds_r\")\n",
    "plt.title(\"Top 10 Provinces by COVID-19 Cases\", fontsize=16)\n",
    "plt.xlabel(\"Total Cases\")\n",
    "plt.ylabel(\"Province\")\n",
    "plt.show()\n",
    "plt.savefig(\"op 10 Provinces by COVID-19 Cases.png\")"
   ]
  },
  {
   "cell_type": "code",
   "execution_count": null,
   "id": "dd664a1f-0521-4ef0-b957-e7f40c74115b",
   "metadata": {},
   "outputs": [],
   "source": [
    "# 3. Pie chart: Share of Total Cases by Top 5 Provinces\n",
    "\n",
    "top5_pie = df.groupby(\"province\")[\"cases\"].sum().sort_values(ascending=False).head(5)\n",
    "plt.figure()\n",
    "plt.pie(top5_pie.values, labels=top5_pie.index, autopct='%1.1f%%', startangle=140)\n",
    "plt.title(\"Top 5 Provinces by Share of Cases\")\n",
    "plt.tight_layout()\n",
    "plt.savefig(\"pie_chart_top5_provinces.png\")"
   ]
  },
  {
   "cell_type": "code",
   "execution_count": null,
   "id": "c0444bf6-fc34-4761-a4be-98fd6d8d7374",
   "metadata": {},
   "outputs": [],
   "source": [
    "# 4. Stacked Bar Chart: Cases, Deaths, Recoveries by Top 5 Provinces\n",
    "\n",
    "top5_provinces = df[\"province\"].value_counts().head(5).index\n",
    "subset = df[df[\"province\"].isin(top5_provinces)]\n",
    "summary = subset.groupby(\"province\")[[\"cases\", \"deaths\", \"recoveries\"]].sum()\n",
    "summary.plot(kind=\"bar\", stacked=True)\n",
    "plt.title(\"Cases, Deaths, and Recoveries (Top Provinces)\")\n",
    "plt.ylabel(\"Count\")\n",
    "plt.xlabel('Province')\n",
    "plt.tight_layout()\n",
    "plt.savefig(\"stacked_bar_top5_provinces.png\")"
   ]
  }
 ],
 "metadata": {
  "kernelspec": {
   "display_name": "Python 3 (ipykernel)",
   "language": "python",
   "name": "python3"
  },
  "language_info": {
   "codemirror_mode": {
    "name": "ipython",
    "version": 3
   },
   "file_extension": ".py",
   "mimetype": "text/x-python",
   "name": "python",
   "nbconvert_exporter": "python",
   "pygments_lexer": "ipython3",
   "version": "3.12.2"
  },
  "widgets": {
   "application/vnd.jupyter.widget-state+json": {
    "state": {},
    "version_major": 2,
    "version_minor": 0
   }
  }
 },
 "nbformat": 4,
 "nbformat_minor": 5
}
