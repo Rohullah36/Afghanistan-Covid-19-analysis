{
 "cells": [
  {
   "cell_type": "code",
   "execution_count": 48,
   "id": "47c20cec-7b67-4b79-891f-9824c03d85c0",
   "metadata": {},
   "outputs": [],
   "source": [
    "import pandas as pd\n",
    "import numpy as np\n",
    "import re"
   ]
  },
  {
   "cell_type": "code",
   "execution_count": 49,
   "id": "f7695219-ddca-4082-8787-6e9a6d34aecd",
   "metadata": {},
   "outputs": [],
   "source": [
    "# load the data\n",
    "df = pd.read_csv(\"data.csv\")"
   ]
  },
  {
   "cell_type": "code",
   "execution_count": 50,
   "id": "31bb8701-bdd3-4c69-b6f5-6f219903998f",
   "metadata": {},
   "outputs": [],
   "source": [
    "# drop first row and reset index\n",
    "df.drop(0, inplace=True)\n",
    "\n",
    "# drop columns\n",
    "df.drop(columns=[\"Active Cases\", \"Tests\"], inplace=True)"
   ]
  },
  {
   "cell_type": "code",
   "execution_count": 51,
   "id": "b46b7292-0da7-4f3f-8f20-02d57e5ef692",
   "metadata": {},
   "outputs": [],
   "source": [
    "# remove comma from strings\n",
    "df['Cases'] = df['Cases'].str.replace(\",\", '').str.strip()\n",
    "df['Deaths'] = df[\"Deaths\"].str.replace(\",\", '').str.strip()\n",
    "df['Recoveries'] = df['Recoveries'].str.replace(\",\", '').str.strip()"
   ]
  },
  {
   "cell_type": "code",
   "execution_count": 52,
   "id": "4612c090-9198-4b07-b1cd-44e8461c0456",
   "metadata": {},
   "outputs": [],
   "source": [
    "df['Cases'] = df['Cases'].replace('–', np.nan)"
   ]
  },
  {
   "cell_type": "code",
   "execution_count": 53,
   "id": "e2bf3ad5-2700-4ef5-9894-1468f3d55197",
   "metadata": {},
   "outputs": [],
   "source": [
    "# fix data type\n",
    "column = ['Cases', 'Deaths', 'Recoveries']\n",
    "\n",
    "for col in column:\n",
    "    df[col] = pd.to_numeric(df[col], errors='coerce')"
   ]
  },
  {
   "cell_type": "code",
   "execution_count": 54,
   "id": "8fa92491-ccbc-4fe4-8d55-eccdc7e576f5",
   "metadata": {},
   "outputs": [],
   "source": [
    "df['Date'] = df['Date'].str.strip()\n",
    "df['Date'] = pd.to_datetime(df['Date'], errors='coerce')"
   ]
  },
  {
   "cell_type": "code",
   "execution_count": 55,
   "id": "8051eab5-e908-4b1c-bc86-4af146d05a7a",
   "metadata": {},
   "outputs": [],
   "source": [
    "def clean_province_name(name):\n",
    "    if pd.isna(name):\n",
    "        return name\n",
    "    name = str(name)\n",
    "\n",
    "    # Remove unwanted characters (e.g., \\x, \\n, etc.)\n",
    "    name = re.sub(r'[^a-zA-Z\\s\\-]', '', name)\n",
    "\n",
    "    # Remove terms like \"province\", case-insensitive\n",
    "    name = re.sub(r'\\bprovince\\b', '', name, flags=re.IGNORECASE)\n",
    "\n",
    "    # Remove extra spaces\n",
    "    name = re.sub(r'\\s+', ' ', name)\n",
    "\n",
    "    return name.strip().title()  # Capitalize properly\n",
    "\n",
    "df['Province'] = df['Province'].apply(clean_province_name)"
   ]
  },
  {
   "cell_type": "code",
   "execution_count": 56,
   "id": "9989f59f-0918-4f61-b6dc-97193ee8d8c1",
   "metadata": {},
   "outputs": [],
   "source": [
    "province_corrections = {'Jawzjon': 'Jawzjan',\n",
    "                       'Herat': 'Hirat',\n",
    "                       'Sar-E-Pul': 'Sar-E Pol',\n",
    "                       'Jowzjan': 'Jawzjan',\n",
    "                      'Nimruz': 'Nimroz' ,\n",
    "                       'Nooristan': 'Nuristan',\n",
    "                       'Panjshir': 'Panjsher',\n",
    "                       'Paktia': 'Paktya',\n",
    "                       'Daykundi': 'Dykundi'}"
   ]
  },
  {
   "cell_type": "code",
   "execution_count": 57,
   "id": "2abb5404-7986-4afa-bd8f-77715214bf6e",
   "metadata": {},
   "outputs": [],
   "source": [
    "# Apply corrections using map and fallback to original if not in dict\n",
    "df['Province'] = df['Province'].apply(lambda x: province_corrections.get(x, x))"
   ]
  },
  {
   "cell_type": "code",
   "execution_count": 58,
   "id": "ddf6b416-f206-44fb-9b20-5ee9ab3a3534",
   "metadata": {},
   "outputs": [],
   "source": [
    "# fill the missing values\n",
    "columns_to_convert = [\"Cases\", \"Deaths\", \"Recoveries\"]\n",
    "for col in columns_to_convert:\n",
    "    df[col] = df.groupby(\"Province\")[col].transform(lambda x: x.fillna(x.median()))"
   ]
  },
  {
   "cell_type": "code",
   "execution_count": 59,
   "id": "4a14ad5c-78ce-409b-9ba9-cb0c43d7579d",
   "metadata": {},
   "outputs": [],
   "source": [
    "# remove outliers\n",
    "for col in ['Cases', 'Deaths', 'Recoveries']:\n",
    "    Q1 = df[col].quantile(0.25)\n",
    "    Q3 = df[col].quantile(0.75)\n",
    "    IQR = Q3 - Q1\n",
    "    lower = Q1 - 1.5 * IQR\n",
    "    upper = Q3 + 1.5 * IQR\n",
    "    final = df[(df[col] >= lower) & (df[col] <= upper)]"
   ]
  },
  {
   "cell_type": "code",
   "execution_count": 60,
   "id": "555361af-60d7-405d-bb82-d3519aee637f",
   "metadata": {},
   "outputs": [],
   "source": [
    "#clean column names\n",
    "df.columns = df.columns.str.lower()\n",
    "df.sort_values(by='date', inplace=True)"
   ]
  },
  {
   "cell_type": "code",
   "execution_count": 61,
   "id": "d3f91743-d19e-4aba-9a0f-e26a9c39c7b7",
   "metadata": {},
   "outputs": [],
   "source": [
    "# save the data\n",
    "df.to_csv(\"cleaned-data.csv\", index=False)"
   ]
  }
 ],
 "metadata": {
  "kernelspec": {
   "display_name": "Python 3 (ipykernel)",
   "language": "python",
   "name": "python3"
  },
  "language_info": {
   "codemirror_mode": {
    "name": "ipython",
    "version": 3
   },
   "file_extension": ".py",
   "mimetype": "text/x-python",
   "name": "python",
   "nbconvert_exporter": "python",
   "pygments_lexer": "ipython3",
   "version": "3.12.2"
  },
  "widgets": {
   "application/vnd.jupyter.widget-state+json": {
    "state": {},
    "version_major": 2,
    "version_minor": 0
   }
  }
 },
 "nbformat": 4,
 "nbformat_minor": 5
}
